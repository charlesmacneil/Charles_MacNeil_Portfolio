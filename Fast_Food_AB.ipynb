{
 "cells": [
  {
   "cell_type": "code",
   "execution_count": 1,
   "metadata": {},
   "outputs": [],
   "source": [
    "import pandas as pd\n",
    "import statsmodels.api as sm\n",
    "from statsmodels.formula.api import ols\n",
    "import statsmodels.stats.multicomp as multi\n",
    "from scipy.stats import shapiro, levene, f_oneway, kruskal\n",
    "import seaborn as sns\n",
    "import matplotlib.pyplot as plt\n",
    "import matplotlib.pyplot as plt\n",
    "\n",
    "df = pd.read_csv('WA_Marketing-Campaign.csv')"
   ]
  },
  {
   "cell_type": "code",
   "execution_count": 2,
   "metadata": {},
   "outputs": [
    {
     "data": {
      "text/html": [
       "<div>\n",
       "<style scoped>\n",
       "    .dataframe tbody tr th:only-of-type {\n",
       "        vertical-align: middle;\n",
       "    }\n",
       "\n",
       "    .dataframe tbody tr th {\n",
       "        vertical-align: top;\n",
       "    }\n",
       "\n",
       "    .dataframe thead th {\n",
       "        text-align: right;\n",
       "    }\n",
       "</style>\n",
       "<table border=\"1\" class=\"dataframe\">\n",
       "  <thead>\n",
       "    <tr style=\"text-align: right;\">\n",
       "      <th></th>\n",
       "      <th>MarketID</th>\n",
       "      <th>MarketSize</th>\n",
       "      <th>LocationID</th>\n",
       "      <th>AgeOfStore</th>\n",
       "      <th>Promotion</th>\n",
       "      <th>week</th>\n",
       "      <th>SalesInThousands</th>\n",
       "    </tr>\n",
       "  </thead>\n",
       "  <tbody>\n",
       "    <tr>\n",
       "      <th>0</th>\n",
       "      <td>1</td>\n",
       "      <td>Medium</td>\n",
       "      <td>1</td>\n",
       "      <td>4</td>\n",
       "      <td>3</td>\n",
       "      <td>1</td>\n",
       "      <td>33.73</td>\n",
       "    </tr>\n",
       "    <tr>\n",
       "      <th>1</th>\n",
       "      <td>1</td>\n",
       "      <td>Medium</td>\n",
       "      <td>1</td>\n",
       "      <td>4</td>\n",
       "      <td>3</td>\n",
       "      <td>2</td>\n",
       "      <td>35.67</td>\n",
       "    </tr>\n",
       "    <tr>\n",
       "      <th>2</th>\n",
       "      <td>1</td>\n",
       "      <td>Medium</td>\n",
       "      <td>1</td>\n",
       "      <td>4</td>\n",
       "      <td>3</td>\n",
       "      <td>3</td>\n",
       "      <td>29.03</td>\n",
       "    </tr>\n",
       "    <tr>\n",
       "      <th>3</th>\n",
       "      <td>1</td>\n",
       "      <td>Medium</td>\n",
       "      <td>1</td>\n",
       "      <td>4</td>\n",
       "      <td>3</td>\n",
       "      <td>4</td>\n",
       "      <td>39.25</td>\n",
       "    </tr>\n",
       "    <tr>\n",
       "      <th>4</th>\n",
       "      <td>1</td>\n",
       "      <td>Medium</td>\n",
       "      <td>2</td>\n",
       "      <td>5</td>\n",
       "      <td>2</td>\n",
       "      <td>1</td>\n",
       "      <td>27.81</td>\n",
       "    </tr>\n",
       "  </tbody>\n",
       "</table>\n",
       "</div>"
      ],
      "text/plain": [
       "   MarketID MarketSize  LocationID  AgeOfStore  Promotion  week  \\\n",
       "0         1     Medium           1           4          3     1   \n",
       "1         1     Medium           1           4          3     2   \n",
       "2         1     Medium           1           4          3     3   \n",
       "3         1     Medium           1           4          3     4   \n",
       "4         1     Medium           2           5          2     1   \n",
       "\n",
       "   SalesInThousands  \n",
       "0             33.73  \n",
       "1             35.67  \n",
       "2             29.03  \n",
       "3             39.25  \n",
       "4             27.81  "
      ]
     },
     "execution_count": 2,
     "metadata": {},
     "output_type": "execute_result"
    }
   ],
   "source": [
    "df.head()"
   ]
  },
  {
   "cell_type": "code",
   "execution_count": 3,
   "metadata": {},
   "outputs": [
    {
     "name": "stdout",
     "output_type": "stream",
     "text": [
      "<class 'pandas.core.frame.DataFrame'>\n",
      "RangeIndex: 548 entries, 0 to 547\n",
      "Data columns (total 7 columns):\n",
      " #   Column            Non-Null Count  Dtype  \n",
      "---  ------            --------------  -----  \n",
      " 0   MarketID          548 non-null    int64  \n",
      " 1   MarketSize        548 non-null    object \n",
      " 2   LocationID        548 non-null    int64  \n",
      " 3   AgeOfStore        548 non-null    int64  \n",
      " 4   Promotion         548 non-null    int64  \n",
      " 5   week              548 non-null    int64  \n",
      " 6   SalesInThousands  548 non-null    float64\n",
      "dtypes: float64(1), int64(5), object(1)\n",
      "memory usage: 30.1+ KB\n"
     ]
    }
   ],
   "source": [
    "df.info()"
   ]
  },
  {
   "cell_type": "code",
   "execution_count": 4,
   "metadata": {},
   "outputs": [],
   "source": [
    "df['Promotion'] = df['Promotion'].astype(str)"
   ]
  },
  {
   "cell_type": "code",
   "execution_count": 5,
   "metadata": {},
   "outputs": [
    {
     "data": {
      "text/plain": [
       "MarketID            0\n",
       "MarketSize          0\n",
       "LocationID          0\n",
       "AgeOfStore          0\n",
       "Promotion           0\n",
       "week                0\n",
       "SalesInThousands    0\n",
       "dtype: int64"
      ]
     },
     "execution_count": 5,
     "metadata": {},
     "output_type": "execute_result"
    }
   ],
   "source": [
    "df.isna().sum()"
   ]
  },
  {
   "cell_type": "code",
   "execution_count": 6,
   "metadata": {},
   "outputs": [
    {
     "data": {
      "text/plain": [
       "0"
      ]
     },
     "execution_count": 6,
     "metadata": {},
     "output_type": "execute_result"
    }
   ],
   "source": [
    "df.duplicated().sum()"
   ]
  },
  {
   "cell_type": "code",
   "execution_count": 7,
   "metadata": {},
   "outputs": [
    {
     "data": {
      "text/html": [
       "<div>\n",
       "<style scoped>\n",
       "    .dataframe tbody tr th:only-of-type {\n",
       "        vertical-align: middle;\n",
       "    }\n",
       "\n",
       "    .dataframe tbody tr th {\n",
       "        vertical-align: top;\n",
       "    }\n",
       "\n",
       "    .dataframe thead th {\n",
       "        text-align: right;\n",
       "    }\n",
       "</style>\n",
       "<table border=\"1\" class=\"dataframe\">\n",
       "  <thead>\n",
       "    <tr style=\"text-align: right;\">\n",
       "      <th></th>\n",
       "      <th>MarketID</th>\n",
       "      <th>MarketSize</th>\n",
       "      <th>LocationID</th>\n",
       "      <th>AgeOfStore</th>\n",
       "      <th>Promotion</th>\n",
       "      <th>week</th>\n",
       "      <th>SalesInThousands</th>\n",
       "    </tr>\n",
       "  </thead>\n",
       "  <tbody>\n",
       "    <tr>\n",
       "      <th>count</th>\n",
       "      <td>548.000000</td>\n",
       "      <td>548</td>\n",
       "      <td>548.000000</td>\n",
       "      <td>548.000000</td>\n",
       "      <td>548</td>\n",
       "      <td>548.000000</td>\n",
       "      <td>548.000000</td>\n",
       "    </tr>\n",
       "    <tr>\n",
       "      <th>unique</th>\n",
       "      <td>NaN</td>\n",
       "      <td>3</td>\n",
       "      <td>NaN</td>\n",
       "      <td>NaN</td>\n",
       "      <td>3</td>\n",
       "      <td>NaN</td>\n",
       "      <td>NaN</td>\n",
       "    </tr>\n",
       "    <tr>\n",
       "      <th>top</th>\n",
       "      <td>NaN</td>\n",
       "      <td>Medium</td>\n",
       "      <td>NaN</td>\n",
       "      <td>NaN</td>\n",
       "      <td>3</td>\n",
       "      <td>NaN</td>\n",
       "      <td>NaN</td>\n",
       "    </tr>\n",
       "    <tr>\n",
       "      <th>freq</th>\n",
       "      <td>NaN</td>\n",
       "      <td>320</td>\n",
       "      <td>NaN</td>\n",
       "      <td>NaN</td>\n",
       "      <td>188</td>\n",
       "      <td>NaN</td>\n",
       "      <td>NaN</td>\n",
       "    </tr>\n",
       "    <tr>\n",
       "      <th>mean</th>\n",
       "      <td>5.715328</td>\n",
       "      <td>NaN</td>\n",
       "      <td>479.656934</td>\n",
       "      <td>8.503650</td>\n",
       "      <td>NaN</td>\n",
       "      <td>2.500000</td>\n",
       "      <td>53.466204</td>\n",
       "    </tr>\n",
       "    <tr>\n",
       "      <th>std</th>\n",
       "      <td>2.877001</td>\n",
       "      <td>NaN</td>\n",
       "      <td>287.973679</td>\n",
       "      <td>6.638345</td>\n",
       "      <td>NaN</td>\n",
       "      <td>1.119055</td>\n",
       "      <td>16.755216</td>\n",
       "    </tr>\n",
       "    <tr>\n",
       "      <th>min</th>\n",
       "      <td>1.000000</td>\n",
       "      <td>NaN</td>\n",
       "      <td>1.000000</td>\n",
       "      <td>1.000000</td>\n",
       "      <td>NaN</td>\n",
       "      <td>1.000000</td>\n",
       "      <td>17.340000</td>\n",
       "    </tr>\n",
       "    <tr>\n",
       "      <th>25%</th>\n",
       "      <td>3.000000</td>\n",
       "      <td>NaN</td>\n",
       "      <td>216.000000</td>\n",
       "      <td>4.000000</td>\n",
       "      <td>NaN</td>\n",
       "      <td>1.750000</td>\n",
       "      <td>42.545000</td>\n",
       "    </tr>\n",
       "    <tr>\n",
       "      <th>50%</th>\n",
       "      <td>6.000000</td>\n",
       "      <td>NaN</td>\n",
       "      <td>504.000000</td>\n",
       "      <td>7.000000</td>\n",
       "      <td>NaN</td>\n",
       "      <td>2.500000</td>\n",
       "      <td>50.200000</td>\n",
       "    </tr>\n",
       "    <tr>\n",
       "      <th>75%</th>\n",
       "      <td>8.000000</td>\n",
       "      <td>NaN</td>\n",
       "      <td>708.000000</td>\n",
       "      <td>12.000000</td>\n",
       "      <td>NaN</td>\n",
       "      <td>3.250000</td>\n",
       "      <td>60.477500</td>\n",
       "    </tr>\n",
       "    <tr>\n",
       "      <th>max</th>\n",
       "      <td>10.000000</td>\n",
       "      <td>NaN</td>\n",
       "      <td>920.000000</td>\n",
       "      <td>28.000000</td>\n",
       "      <td>NaN</td>\n",
       "      <td>4.000000</td>\n",
       "      <td>99.650000</td>\n",
       "    </tr>\n",
       "  </tbody>\n",
       "</table>\n",
       "</div>"
      ],
      "text/plain": [
       "          MarketID MarketSize  LocationID  AgeOfStore Promotion        week  \\\n",
       "count   548.000000        548  548.000000  548.000000       548  548.000000   \n",
       "unique         NaN          3         NaN         NaN         3         NaN   \n",
       "top            NaN     Medium         NaN         NaN         3         NaN   \n",
       "freq           NaN        320         NaN         NaN       188         NaN   \n",
       "mean      5.715328        NaN  479.656934    8.503650       NaN    2.500000   \n",
       "std       2.877001        NaN  287.973679    6.638345       NaN    1.119055   \n",
       "min       1.000000        NaN    1.000000    1.000000       NaN    1.000000   \n",
       "25%       3.000000        NaN  216.000000    4.000000       NaN    1.750000   \n",
       "50%       6.000000        NaN  504.000000    7.000000       NaN    2.500000   \n",
       "75%       8.000000        NaN  708.000000   12.000000       NaN    3.250000   \n",
       "max      10.000000        NaN  920.000000   28.000000       NaN    4.000000   \n",
       "\n",
       "        SalesInThousands  \n",
       "count         548.000000  \n",
       "unique               NaN  \n",
       "top                  NaN  \n",
       "freq                 NaN  \n",
       "mean           53.466204  \n",
       "std            16.755216  \n",
       "min            17.340000  \n",
       "25%            42.545000  \n",
       "50%            50.200000  \n",
       "75%            60.477500  \n",
       "max            99.650000  "
      ]
     },
     "execution_count": 7,
     "metadata": {},
     "output_type": "execute_result"
    }
   ],
   "source": [
    "df.describe(include='all')"
   ]
  },
  {
   "cell_type": "code",
   "execution_count": 8,
   "metadata": {},
   "outputs": [
    {
     "data": {
      "text/plain": [
       "<Figure size 1000x600 with 0 Axes>"
      ]
     },
     "metadata": {},
     "output_type": "display_data"
    },
    {
     "data": {
      "image/png": "[encoded data removed]",
      "text/plain": [
       "<Figure size 640x480 with 1 Axes>"
      ]
     },
     "metadata": {},
     "output_type": "display_data"
    }
   ],
   "source": [
    "plt.figure(figsize=(10, 6))\n",
    "df.boxplot(column='SalesInThousands', by='Promotion', grid=False)\n",
    "\n",
    "plt.title(\"Sales in Thousands Grouped by Promotion\")\n",
    "plt.suptitle(\"\")  \n",
    "plt.xlabel(\"Promotion\")\n",
    "plt.ylabel(\"Sales in Thousands\")\n",
    "\n",
    "plt.show()\n"
   ]
  },
  {
   "cell_type": "code",
   "execution_count": 9,
   "metadata": {},
   "outputs": [
    {
     "data": {
      "text/html": [
       "<div>\n",
       "<style scoped>\n",
       "    .dataframe tbody tr th:only-of-type {\n",
       "        vertical-align: middle;\n",
       "    }\n",
       "\n",
       "    .dataframe tbody tr th {\n",
       "        vertical-align: top;\n",
       "    }\n",
       "\n",
       "    .dataframe thead tr th {\n",
       "        text-align: left;\n",
       "    }\n",
       "\n",
       "    .dataframe thead tr:last-of-type th {\n",
       "        text-align: right;\n",
       "    }\n",
       "</style>\n",
       "<table border=\"1\" class=\"dataframe\">\n",
       "  <thead>\n",
       "    <tr>\n",
       "      <th></th>\n",
       "      <th></th>\n",
       "      <th colspan=\"3\" halign=\"left\">SalesInThousands</th>\n",
       "    </tr>\n",
       "    <tr>\n",
       "      <th></th>\n",
       "      <th></th>\n",
       "      <th>count</th>\n",
       "      <th>mean</th>\n",
       "      <th>sum</th>\n",
       "    </tr>\n",
       "    <tr>\n",
       "      <th>MarketSize</th>\n",
       "      <th>week</th>\n",
       "      <th></th>\n",
       "      <th></th>\n",
       "      <th></th>\n",
       "    </tr>\n",
       "  </thead>\n",
       "  <tbody>\n",
       "    <tr>\n",
       "      <th rowspan=\"4\" valign=\"top\">Large</th>\n",
       "      <th>1</th>\n",
       "      <td>42</td>\n",
       "      <td>70.793333</td>\n",
       "      <td>2973.32</td>\n",
       "    </tr>\n",
       "    <tr>\n",
       "      <th>2</th>\n",
       "      <td>42</td>\n",
       "      <td>68.656667</td>\n",
       "      <td>2883.58</td>\n",
       "    </tr>\n",
       "    <tr>\n",
       "      <th>3</th>\n",
       "      <td>42</td>\n",
       "      <td>70.647381</td>\n",
       "      <td>2967.19</td>\n",
       "    </tr>\n",
       "    <tr>\n",
       "      <th>4</th>\n",
       "      <td>42</td>\n",
       "      <td>70.369524</td>\n",
       "      <td>2955.52</td>\n",
       "    </tr>\n",
       "    <tr>\n",
       "      <th rowspan=\"4\" valign=\"top\">Medium</th>\n",
       "      <th>1</th>\n",
       "      <td>80</td>\n",
       "      <td>44.403875</td>\n",
       "      <td>3552.31</td>\n",
       "    </tr>\n",
       "    <tr>\n",
       "      <th>2</th>\n",
       "      <td>80</td>\n",
       "      <td>44.378125</td>\n",
       "      <td>3550.25</td>\n",
       "    </tr>\n",
       "    <tr>\n",
       "      <th>3</th>\n",
       "      <td>80</td>\n",
       "      <td>44.107500</td>\n",
       "      <td>3528.60</td>\n",
       "    </tr>\n",
       "    <tr>\n",
       "      <th>4</th>\n",
       "      <td>80</td>\n",
       "      <td>43.051875</td>\n",
       "      <td>3444.15</td>\n",
       "    </tr>\n",
       "    <tr>\n",
       "      <th rowspan=\"4\" valign=\"top\">Small</th>\n",
       "      <th>1</th>\n",
       "      <td>15</td>\n",
       "      <td>56.245333</td>\n",
       "      <td>843.68</td>\n",
       "    </tr>\n",
       "    <tr>\n",
       "      <th>2</th>\n",
       "      <td>15</td>\n",
       "      <td>58.675333</td>\n",
       "      <td>880.13</td>\n",
       "    </tr>\n",
       "    <tr>\n",
       "      <th>3</th>\n",
       "      <td>15</td>\n",
       "      <td>55.348667</td>\n",
       "      <td>830.23</td>\n",
       "    </tr>\n",
       "    <tr>\n",
       "      <th>4</th>\n",
       "      <td>15</td>\n",
       "      <td>59.368000</td>\n",
       "      <td>890.52</td>\n",
       "    </tr>\n",
       "  </tbody>\n",
       "</table>\n",
       "</div>"
      ],
      "text/plain": [
       "                SalesInThousands                    \n",
       "                           count       mean      sum\n",
       "MarketSize week                                     \n",
       "Large      1                  42  70.793333  2973.32\n",
       "           2                  42  68.656667  2883.58\n",
       "           3                  42  70.647381  2967.19\n",
       "           4                  42  70.369524  2955.52\n",
       "Medium     1                  80  44.403875  3552.31\n",
       "           2                  80  44.378125  3550.25\n",
       "           3                  80  44.107500  3528.60\n",
       "           4                  80  43.051875  3444.15\n",
       "Small      1                  15  56.245333   843.68\n",
       "           2                  15  58.675333   880.13\n",
       "           3                  15  55.348667   830.23\n",
       "           4                  15  59.368000   890.52"
      ]
     },
     "execution_count": 9,
     "metadata": {},
     "output_type": "execute_result"
    }
   ],
   "source": [
    "df.groupby([\"MarketSize\", \"week\"]).agg({\"SalesInThousands\": [\"count\", \"mean\", \"sum\"]})"
   ]
  },
  {
   "cell_type": "code",
   "execution_count": 10,
   "metadata": {},
   "outputs": [
    {
     "data": {
      "image/png": "[encoded data removed]",
      "text/plain": [
       "<Figure size 1000x600 with 1 Axes>"
      ]
     },
     "metadata": {},
     "output_type": "display_data"
    }
   ],
   "source": [
    "grouped = df.groupby([\"MarketSize\", \"week\"]).agg({\"SalesInThousands\": \"count\"}).reset_index()\n",
    "\n",
    "# Pivot the data for plotting\n",
    "pivot_df = grouped.pivot(index='week', columns='MarketSize', values='SalesInThousands')\n",
    "\n",
    "# Plotting\n",
    "pivot_df.plot(kind='bar', stacked=False, figsize=(10, 6))\n",
    "plt.title('Count of SalesInThousands by MarketSize and Week')\n",
    "plt.xlabel('Week')\n",
    "plt.ylabel('Count')\n",
    "plt.xticks(rotation=0)\n",
    "plt.legend(title='MarketSize')\n",
    "plt.show()"
   ]
  },
  {
   "cell_type": "code",
   "execution_count": 11,
   "metadata": {},
   "outputs": [
    {
     "data": {
      "text/html": [
       "<div>\n",
       "<style scoped>\n",
       "    .dataframe tbody tr th:only-of-type {\n",
       "        vertical-align: middle;\n",
       "    }\n",
       "\n",
       "    .dataframe tbody tr th {\n",
       "        vertical-align: top;\n",
       "    }\n",
       "\n",
       "    .dataframe thead tr th {\n",
       "        text-align: left;\n",
       "    }\n",
       "\n",
       "    .dataframe thead tr:last-of-type th {\n",
       "        text-align: right;\n",
       "    }\n",
       "</style>\n",
       "<table border=\"1\" class=\"dataframe\">\n",
       "  <thead>\n",
       "    <tr>\n",
       "      <th></th>\n",
       "      <th></th>\n",
       "      <th colspan=\"2\" halign=\"left\">SalesInThousands</th>\n",
       "    </tr>\n",
       "    <tr>\n",
       "      <th></th>\n",
       "      <th></th>\n",
       "      <th>mean</th>\n",
       "      <th>median</th>\n",
       "    </tr>\n",
       "    <tr>\n",
       "      <th>MarketSize</th>\n",
       "      <th>Promotion</th>\n",
       "      <th></th>\n",
       "      <th></th>\n",
       "    </tr>\n",
       "  </thead>\n",
       "  <tbody>\n",
       "    <tr>\n",
       "      <th rowspan=\"3\" valign=\"top\">Large</th>\n",
       "      <th>1</th>\n",
       "      <td>75.235893</td>\n",
       "      <td>72.835</td>\n",
       "    </tr>\n",
       "    <tr>\n",
       "      <th>2</th>\n",
       "      <td>60.322031</td>\n",
       "      <td>53.010</td>\n",
       "    </tr>\n",
       "    <tr>\n",
       "      <th>3</th>\n",
       "      <td>77.203958</td>\n",
       "      <td>82.345</td>\n",
       "    </tr>\n",
       "    <tr>\n",
       "      <th rowspan=\"3\" valign=\"top\">Medium</th>\n",
       "      <th>1</th>\n",
       "      <td>47.672604</td>\n",
       "      <td>47.425</td>\n",
       "    </tr>\n",
       "    <tr>\n",
       "      <th>2</th>\n",
       "      <td>39.114352</td>\n",
       "      <td>39.765</td>\n",
       "    </tr>\n",
       "    <tr>\n",
       "      <th>3</th>\n",
       "      <td>45.468879</td>\n",
       "      <td>46.295</td>\n",
       "    </tr>\n",
       "    <tr>\n",
       "      <th rowspan=\"3\" valign=\"top\">Small</th>\n",
       "      <th>1</th>\n",
       "      <td>60.162500</td>\n",
       "      <td>61.145</td>\n",
       "    </tr>\n",
       "    <tr>\n",
       "      <th>2</th>\n",
       "      <td>50.810625</td>\n",
       "      <td>51.600</td>\n",
       "    </tr>\n",
       "    <tr>\n",
       "      <th>3</th>\n",
       "      <td>59.514167</td>\n",
       "      <td>59.745</td>\n",
       "    </tr>\n",
       "  </tbody>\n",
       "</table>\n",
       "</div>"
      ],
      "text/plain": [
       "                     SalesInThousands        \n",
       "                                 mean  median\n",
       "MarketSize Promotion                         \n",
       "Large      1                75.235893  72.835\n",
       "           2                60.322031  53.010\n",
       "           3                77.203958  82.345\n",
       "Medium     1                47.672604  47.425\n",
       "           2                39.114352  39.765\n",
       "           3                45.468879  46.295\n",
       "Small      1                60.162500  61.145\n",
       "           2                50.810625  51.600\n",
       "           3                59.514167  59.745"
      ]
     },
     "execution_count": 11,
     "metadata": {},
     "output_type": "execute_result"
    }
   ],
   "source": [
    "df.groupby([\"MarketSize\", \"Promotion\"]).agg({\"SalesInThousands\": [\"mean\", \"median\"]})"
   ]
  },
  {
   "cell_type": "code",
   "execution_count": 12,
   "metadata": {},
   "outputs": [
    {
     "data": {
      "image/png": "[encoded data removed]",
      "text/plain": [
       "<Figure size 1200x600 with 1 Axes>"
      ]
     },
     "metadata": {},
     "output_type": "display_data"
    }
   ],
   "source": [
    "# Visualization\n",
    "plt.figure(figsize=(12, 6))\n",
    "sns.boxplot(x='Promotion', y='SalesInThousands', hue='MarketSize', data=df)\n",
    "plt.title('Sales in Thousands by Promotion and Market Size')\n",
    "plt.show()"
   ]
  },
  {
   "cell_type": "markdown",
   "metadata": {},
   "source": [
    "H0 = G1 = G2 = G3 -> No statistically significant difference between the sales of the promotions \n",
    "\n",
    "\n",
    "H1 = G1 <> G2 <> G3 -> IS statistically significant difference between the sales of the promotions \n"
   ]
  },
  {
   "cell_type": "code",
   "execution_count": 13,
   "metadata": {},
   "outputs": [
    {
     "name": "stdout",
     "output_type": "stream",
     "text": [
      "Test Stat = 0.8891, p-value = 0.0000\n",
      "Test Stat = 0.9485, p-value = 0.0001\n",
      "Test Stat = 0.9335, p-value = 0.0000\n",
      "Test Stat = 0.9477, p-value = 0.0000\n"
     ]
    }
   ],
   "source": [
    "from scipy.stats import shapiro, levene, f_oneway, kruskal\n",
    "\n",
    "test_stat, pvalue = shapiro(df.loc[df[\"week\"] == 1, \"SalesInThousands\"])\n",
    "print('Test Stat = %.4f, p-value = %.4f' % (test_stat, pvalue))\n",
    "\n",
    "test_stat, pvalue = shapiro(df.loc[df[\"week\"] == 2, \"SalesInThousands\"])\n",
    "print('Test Stat = %.4f, p-value = %.4f' % (test_stat, pvalue))\n",
    "\n",
    "test_stat, pvalue = shapiro(df.loc[df[\"week\"] == 3, \"SalesInThousands\"])\n",
    "print('Test Stat = %.4f, p-value = %.4f' % (test_stat, pvalue))\n",
    "\n",
    "test_stat, pvalue = shapiro(df.loc[df[\"week\"] == 4, \"SalesInThousands\"])\n",
    "print('Test Stat = %.4f, p-value = %.4f' % (test_stat, pvalue))\n"
   ]
  },
  {
   "cell_type": "markdown",
   "metadata": {},
   "source": [
    "the null hypothesis is rejected and there is evidence that the data tested are not normally distributed"
   ]
  },
  {
   "cell_type": "code",
   "execution_count": 14,
   "metadata": {},
   "outputs": [
    {
     "name": "stdout",
     "output_type": "stream",
     "text": [
      "                 df         sum_sq      mean_sq          F        PR(>F)\n",
      "C(Promotion)    2.0   11449.174291  5724.587145  21.953486  6.765849e-10\n",
      "Residual      545.0  142114.105414   260.759826        NaN           NaN\n"
     ]
    }
   ],
   "source": [
    "model = ols('SalesInThousands ~ C(Promotion)', data = df).fit()\n",
    "\n",
    "anova_table = sm.stats.anova_lm(model, type=2)\n",
    "print(anova_table)"
   ]
  },
  {
   "cell_type": "markdown",
   "metadata": {},
   "source": [
    "The promotion type has a significant effect on sales. The p-value is very small (much less than 0.05), so we can reject the null hypothesis that there are no differences in sales among the different promotions.\n"
   ]
  },
  {
   "cell_type": "code",
   "execution_count": 15,
   "metadata": {},
   "outputs": [],
   "source": [
    "# ANOVA and Tukey HSD test for each market size\n",
    "def analyze_market_size(data, market_size):\n",
    "    subset = data[data['MarketSize'] == market_size]\n",
    "    model = ols('SalesInThousands ~ C(Promotion)', data=subset).fit()\n",
    "    anova_table = sm.stats.anova_lm(model, typ=2)\n",
    "    print(f\"ANOVA results for Market Size {market_size}:\\n\", anova_table)\n",
    "    \n",
    "    # Post-hoc \n",
    "    mc = multi.MultiComparison(subset['SalesInThousands'], subset['Promotion'])\n",
    "    tukey_result = mc.tukeyhsd()\n",
    "    print(f\"Tukey HSD results for Market Size {market_size}:\\n\", tukey_result)\n",
    "    \n",
    "    return anova_table, tukey_result\n",
    "\n"
   ]
  },
  {
   "cell_type": "code",
   "execution_count": 16,
   "metadata": {},
   "outputs": [
    {
     "name": "stdout",
     "output_type": "stream",
     "text": [
      "ANOVA results for Market Size Medium:\n",
      "                     sum_sq     df          F        PR(>F)\n",
      "C(Promotion)   4122.975904    2.0  29.688134  1.519740e-12\n",
      "Residual      22011.881458  317.0        NaN           NaN\n",
      "Tukey HSD results for Market Size Medium:\n",
      "  Multiple Comparison of Means - Tukey HSD, FWER=0.05 \n",
      "=====================================================\n",
      "group1 group2 meandiff p-adj   lower    upper  reject\n",
      "-----------------------------------------------------\n",
      "     1      2  -8.5583    0.0 -11.3107 -5.8058   True\n",
      "     1      3  -2.2037 0.1356  -4.9111  0.5037  False\n",
      "     2      3   6.3545    0.0   3.7307  8.9783   True\n",
      "-----------------------------------------------------\n",
      "ANOVA results for Market Size Small:\n",
      "                    sum_sq    df          F    PR(>F)\n",
      "C(Promotion)   954.613521   2.0  16.576481  0.000002\n",
      "Residual      1641.270252  57.0        NaN       NaN\n",
      "Tukey HSD results for Market Size Small:\n",
      " Multiple Comparison of Means - Tukey HSD, FWER=0.05 \n",
      "====================================================\n",
      "group1 group2 meandiff p-adj   lower   upper  reject\n",
      "----------------------------------------------------\n",
      "     1      2  -9.3519    0.0 -13.683 -5.0208   True\n",
      "     1      3  -0.6483 0.9161 -4.5579  3.2612  False\n",
      "     2      3   8.7035    0.0  4.5359 12.8712   True\n",
      "----------------------------------------------------\n",
      "ANOVA results for Market Size Large:\n",
      "                     sum_sq     df          F        PR(>F)\n",
      "C(Promotion)  10018.420960    2.0  21.445111  5.261567e-09\n",
      "Residual      38541.172539  165.0        NaN           NaN\n",
      "Tukey HSD results for Market Size Large:\n",
      " Multiple Comparison of Means - Tukey HSD, FWER=0.05 \n",
      "====================================================\n",
      "group1 group2 meandiff p-adj  lower    upper  reject\n",
      "----------------------------------------------------\n",
      "     1      2 -14.9139   0.0 -21.5279 -8.2998   True\n",
      "     1      3   1.9681  0.79  -5.1418   9.078  False\n",
      "     2      3  16.8819   0.0   9.9802 23.7837   True\n",
      "----------------------------------------------------\n"
     ]
    }
   ],
   "source": [
    "# Analyze each market size\n",
    "market_sizes = df['MarketSize'].unique()\n",
    "results = {}\n",
    "for market_size in market_sizes:\n",
    "    results[market_size] = analyze_market_size(df, market_size)"
   ]
  },
  {
   "cell_type": "markdown",
   "metadata": {},
   "source": [
    "### Market Size: Small -> Promotion 1\n",
    "**ANOVA Results:**\n",
    "- Promotions significantly affect SalesInThousands (F(2, 57) = 16.576, p < 0.001).\n",
    "\n",
    "**Tukey HSD Results:**\n",
    "- Promotion 1 vs Promotion 2: Mean difference = -9.3519, p < 0.001 (Reject Null Hypothesis).\n",
    "- Promotion 1 vs Promotion 3: Mean difference = -0.6483, p = 0.916 (Fail to Reject Null Hypothesis).\n",
    "- Promotion 2 vs Promotion 3: Mean difference = 8.7035, p < 0.001 (Reject Null Hypothesis).\n",
    "\n",
    "### Market Size: Medium -> Promotion 1\n",
    "**ANOVA Results:**\n",
    "- Promotions significantly affect SalesInThousands (F(2, 317) = 29.688, p < 0.001).\n",
    "\n",
    "**Tukey HSD Results:**\n",
    "- Promotion 1 vs Promotion 2: Mean difference = -8.5583, p < 0.001 (Reject Null Hypothesis).\n",
    "- Promotion 1 vs Promotion 3: Mean difference = -2.2037, p = 0.136 (Fail to Reject Null Hypothesis).\n",
    "- Promotion 2 vs Promotion 3: Mean difference = 6.3545, p < 0.001 (Reject Null Hypothesis).\n",
    "\n",
    "### Market Size: Large -> Promotion 3\n",
    "**ANOVA Results:**\n",
    "- Promotions significantly affect SalesInThousands (F(2, 165) = 21.445, p < 0.001).\n",
    "\n",
    "**Tukey HSD Results:**\n",
    "- Promotion 1 vs Promotion 2: Mean difference = -14.9139, p < 0.001 (Reject Null Hypothesis).\n",
    "- Promotion 1 vs Promotion 3: Mean difference = 1.9681, p = 0.790 (Fail to Reject Null Hypothesis).\n",
    "- Promotion 2 vs Promotion 3: Mean difference = 16.8819, p < 0.001 (Reject Null Hypothesis).\n"
   ]
  }
 ],
 "metadata": {
  "kernelspec": {
   "display_name": "Python 3",
   "language": "python",
   "name": "python3"
  },
  "language_info": {
   "codemirror_mode": {
    "name": "ipython",
    "version": 3
   },
   "file_extension": ".py",
   "mimetype": "text/x-python",
   "name": "python",
   "nbconvert_exporter": "python",
   "pygments_lexer": "ipython3",
   "version": "3.10.13"
  }
 },
 "nbformat": 4,
 "nbformat_minor": 2
}
